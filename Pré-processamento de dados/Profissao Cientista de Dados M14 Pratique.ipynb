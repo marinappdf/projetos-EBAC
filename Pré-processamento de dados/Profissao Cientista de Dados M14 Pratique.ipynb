{
 "cells": [
  {
   "cell_type": "markdown",
   "metadata": {
    "id": "oRsiqY067PIY"
   },
   "source": [
    "# **MÓDULO 14 - Exercício de Pré-processamento dos Dados**"
   ]
  },
  {
   "cell_type": "code",
   "execution_count": 380,
   "metadata": {
    "id": "JT5cIPR07GqI"
   },
   "outputs": [],
   "source": [
    "import seaborn as sns\n",
    "import matplotlib.pyplot as plt\n",
    "import pandas as pd"
   ]
  },
  {
   "cell_type": "code",
   "execution_count": 381,
   "metadata": {
    "colab": {
     "base_uri": "https://localhost:8080/",
     "height": 556
    },
    "id": "YpQybbwr76nX",
    "outputId": "a91f3127-9300-4604-9411-e0820215a03b"
   },
   "outputs": [
    {
     "data": {
      "text/html": [
       "<div>\n",
       "<style scoped>\n",
       "    .dataframe tbody tr th:only-of-type {\n",
       "        vertical-align: middle;\n",
       "    }\n",
       "\n",
       "    .dataframe tbody tr th {\n",
       "        vertical-align: top;\n",
       "    }\n",
       "\n",
       "    .dataframe thead th {\n",
       "        text-align: right;\n",
       "    }\n",
       "</style>\n",
       "<table border=\"1\" class=\"dataframe\">\n",
       "  <thead>\n",
       "    <tr style=\"text-align: right;\">\n",
       "      <th></th>\n",
       "      <th>customerID</th>\n",
       "      <th>Genero</th>\n",
       "      <th>Idoso</th>\n",
       "      <th>Casado</th>\n",
       "      <th>Dependents</th>\n",
       "      <th>Tempo_como_Cliente</th>\n",
       "      <th>PhoneService</th>\n",
       "      <th>Servico_Internet</th>\n",
       "      <th>Servico_Seguranca</th>\n",
       "      <th>Suporte_Tecnico</th>\n",
       "      <th>StreamingTV</th>\n",
       "      <th>Tipo_Contrato</th>\n",
       "      <th>PaymentMethod</th>\n",
       "      <th>Pagamento_Mensal</th>\n",
       "      <th>Total_Pago</th>\n",
       "      <th>Churn</th>\n",
       "    </tr>\n",
       "  </thead>\n",
       "  <tbody>\n",
       "    <tr>\n",
       "      <th>0</th>\n",
       "      <td>7590-VHVEG</td>\n",
       "      <td>Female</td>\n",
       "      <td>0</td>\n",
       "      <td>Yes</td>\n",
       "      <td>No</td>\n",
       "      <td>1</td>\n",
       "      <td>No</td>\n",
       "      <td>DSL</td>\n",
       "      <td>No</td>\n",
       "      <td>No</td>\n",
       "      <td>No</td>\n",
       "      <td>Month-to-month</td>\n",
       "      <td>Electronic check</td>\n",
       "      <td>29.85</td>\n",
       "      <td>29.85</td>\n",
       "      <td>No</td>\n",
       "    </tr>\n",
       "    <tr>\n",
       "      <th>1</th>\n",
       "      <td>5575-GNVDE</td>\n",
       "      <td>Male</td>\n",
       "      <td>0</td>\n",
       "      <td>No</td>\n",
       "      <td>No</td>\n",
       "      <td>34</td>\n",
       "      <td>Yes</td>\n",
       "      <td>DSL</td>\n",
       "      <td>Yes</td>\n",
       "      <td>No</td>\n",
       "      <td>No</td>\n",
       "      <td>One year</td>\n",
       "      <td>Mailed check</td>\n",
       "      <td>56.95</td>\n",
       "      <td>1889.50</td>\n",
       "      <td>No</td>\n",
       "    </tr>\n",
       "    <tr>\n",
       "      <th>2</th>\n",
       "      <td>3668-QPYBK</td>\n",
       "      <td>Male</td>\n",
       "      <td>0</td>\n",
       "      <td>No</td>\n",
       "      <td>No</td>\n",
       "      <td>2</td>\n",
       "      <td>Yes</td>\n",
       "      <td>DSL</td>\n",
       "      <td>Yes</td>\n",
       "      <td>No</td>\n",
       "      <td>No</td>\n",
       "      <td>Month-to-month</td>\n",
       "      <td>Mailed check</td>\n",
       "      <td>53.85</td>\n",
       "      <td>108.15</td>\n",
       "      <td>Yes</td>\n",
       "    </tr>\n",
       "    <tr>\n",
       "      <th>3</th>\n",
       "      <td>7795-CFOCW</td>\n",
       "      <td>Male</td>\n",
       "      <td>0</td>\n",
       "      <td>No</td>\n",
       "      <td>No</td>\n",
       "      <td>45</td>\n",
       "      <td>No</td>\n",
       "      <td>DSL</td>\n",
       "      <td>Yes</td>\n",
       "      <td>Yes</td>\n",
       "      <td>No</td>\n",
       "      <td>One year</td>\n",
       "      <td>Bank transfer (automatic)</td>\n",
       "      <td>NaN</td>\n",
       "      <td>1840.75</td>\n",
       "      <td>No</td>\n",
       "    </tr>\n",
       "    <tr>\n",
       "      <th>4</th>\n",
       "      <td>9237-HQITU</td>\n",
       "      <td>NaN</td>\n",
       "      <td>0</td>\n",
       "      <td>No</td>\n",
       "      <td>No</td>\n",
       "      <td>2</td>\n",
       "      <td>Yes</td>\n",
       "      <td>Fiber optic</td>\n",
       "      <td>No</td>\n",
       "      <td>No</td>\n",
       "      <td>No</td>\n",
       "      <td>Month-to-month</td>\n",
       "      <td>Electronic check</td>\n",
       "      <td>NaN</td>\n",
       "      <td>151.65</td>\n",
       "      <td>Yes</td>\n",
       "    </tr>\n",
       "    <tr>\n",
       "      <th>5</th>\n",
       "      <td>9305-CDSKC</td>\n",
       "      <td>NaN</td>\n",
       "      <td>0</td>\n",
       "      <td>No</td>\n",
       "      <td>No</td>\n",
       "      <td>8</td>\n",
       "      <td>Yes</td>\n",
       "      <td>Fiber optic</td>\n",
       "      <td>No</td>\n",
       "      <td>No</td>\n",
       "      <td>Yes</td>\n",
       "      <td>Month-to-month</td>\n",
       "      <td>Electronic check</td>\n",
       "      <td>NaN</td>\n",
       "      <td>820.50</td>\n",
       "      <td>NaN</td>\n",
       "    </tr>\n",
       "    <tr>\n",
       "      <th>6</th>\n",
       "      <td>1452-KIOVK</td>\n",
       "      <td>NaN</td>\n",
       "      <td>0</td>\n",
       "      <td>No</td>\n",
       "      <td>Yes</td>\n",
       "      <td>22</td>\n",
       "      <td>Yes</td>\n",
       "      <td>Fiber optic</td>\n",
       "      <td>No</td>\n",
       "      <td>No</td>\n",
       "      <td>Yes</td>\n",
       "      <td>Month-to-month</td>\n",
       "      <td>Credit card (automatic)</td>\n",
       "      <td>NaN</td>\n",
       "      <td>1949.40</td>\n",
       "      <td>NaN</td>\n",
       "    </tr>\n",
       "    <tr>\n",
       "      <th>7</th>\n",
       "      <td>6713-OKOMC</td>\n",
       "      <td>NaN</td>\n",
       "      <td>0</td>\n",
       "      <td>No</td>\n",
       "      <td>No</td>\n",
       "      <td>10</td>\n",
       "      <td>No</td>\n",
       "      <td>DSL</td>\n",
       "      <td>Yes</td>\n",
       "      <td>No</td>\n",
       "      <td>No</td>\n",
       "      <td>Month-to-month</td>\n",
       "      <td>Mailed check</td>\n",
       "      <td>NaN</td>\n",
       "      <td>301.90</td>\n",
       "      <td>NaN</td>\n",
       "    </tr>\n",
       "    <tr>\n",
       "      <th>8</th>\n",
       "      <td>7892-POOKP</td>\n",
       "      <td>NaN</td>\n",
       "      <td>0</td>\n",
       "      <td>Yes</td>\n",
       "      <td>No</td>\n",
       "      <td>28</td>\n",
       "      <td>Yes</td>\n",
       "      <td>Fiber optic</td>\n",
       "      <td>No</td>\n",
       "      <td>Yes</td>\n",
       "      <td>Yes</td>\n",
       "      <td>Month-to-month</td>\n",
       "      <td>Electronic check</td>\n",
       "      <td>NaN</td>\n",
       "      <td>3046.05</td>\n",
       "      <td>NaN</td>\n",
       "    </tr>\n",
       "    <tr>\n",
       "      <th>9</th>\n",
       "      <td>6388-TABGU</td>\n",
       "      <td>NaN</td>\n",
       "      <td>0</td>\n",
       "      <td>No</td>\n",
       "      <td>Yes</td>\n",
       "      <td>62</td>\n",
       "      <td>Yes</td>\n",
       "      <td>dsl</td>\n",
       "      <td>Yes</td>\n",
       "      <td>No</td>\n",
       "      <td>No</td>\n",
       "      <td>One year</td>\n",
       "      <td>Bank transfer (automatic)</td>\n",
       "      <td>NaN</td>\n",
       "      <td>3487.95</td>\n",
       "      <td>NaN</td>\n",
       "    </tr>\n",
       "  </tbody>\n",
       "</table>\n",
       "</div>"
      ],
      "text/plain": [
       "   customerID  Genero  Idoso Casado Dependents  Tempo_como_Cliente  \\\n",
       "0  7590-VHVEG  Female      0    Yes         No                   1   \n",
       "1  5575-GNVDE    Male      0     No         No                  34   \n",
       "2  3668-QPYBK    Male      0     No         No                   2   \n",
       "3  7795-CFOCW    Male      0     No         No                  45   \n",
       "4  9237-HQITU     NaN      0     No         No                   2   \n",
       "5  9305-CDSKC     NaN      0     No         No                   8   \n",
       "6  1452-KIOVK     NaN      0     No        Yes                  22   \n",
       "7  6713-OKOMC     NaN      0     No         No                  10   \n",
       "8  7892-POOKP     NaN      0    Yes         No                  28   \n",
       "9  6388-TABGU     NaN      0     No        Yes                  62   \n",
       "\n",
       "  PhoneService Servico_Internet Servico_Seguranca Suporte_Tecnico StreamingTV  \\\n",
       "0           No              DSL                No              No          No   \n",
       "1          Yes              DSL               Yes              No          No   \n",
       "2          Yes              DSL               Yes              No          No   \n",
       "3           No              DSL               Yes             Yes          No   \n",
       "4          Yes      Fiber optic                No              No          No   \n",
       "5          Yes      Fiber optic                No              No         Yes   \n",
       "6          Yes      Fiber optic                No              No         Yes   \n",
       "7           No              DSL               Yes              No          No   \n",
       "8          Yes      Fiber optic                No             Yes         Yes   \n",
       "9          Yes              dsl               Yes              No          No   \n",
       "\n",
       "    Tipo_Contrato              PaymentMethod  Pagamento_Mensal  Total_Pago  \\\n",
       "0  Month-to-month           Electronic check             29.85       29.85   \n",
       "1        One year               Mailed check             56.95     1889.50   \n",
       "2  Month-to-month               Mailed check             53.85      108.15   \n",
       "3        One year  Bank transfer (automatic)               NaN     1840.75   \n",
       "4  Month-to-month           Electronic check               NaN      151.65   \n",
       "5  Month-to-month           Electronic check               NaN      820.50   \n",
       "6  Month-to-month    Credit card (automatic)               NaN     1949.40   \n",
       "7  Month-to-month               Mailed check               NaN      301.90   \n",
       "8  Month-to-month           Electronic check               NaN     3046.05   \n",
       "9        One year  Bank transfer (automatic)               NaN     3487.95   \n",
       "\n",
       "  Churn  \n",
       "0    No  \n",
       "1    No  \n",
       "2   Yes  \n",
       "3    No  \n",
       "4   Yes  \n",
       "5   NaN  \n",
       "6   NaN  \n",
       "7   NaN  \n",
       "8   NaN  \n",
       "9   NaN  "
      ]
     },
     "execution_count": 381,
     "metadata": {},
     "output_type": "execute_result"
    }
   ],
   "source": [
    "df = pd.read_csv(\"CHURN_TELECON_MOD08_TAREFA.csv\", delimiter=';')\n",
    "df.head(10)"
   ]
  },
  {
   "cell_type": "code",
   "execution_count": 382,
   "metadata": {},
   "outputs": [
    {
     "data": {
      "text/html": [
       "<div>\n",
       "<style scoped>\n",
       "    .dataframe tbody tr th:only-of-type {\n",
       "        vertical-align: middle;\n",
       "    }\n",
       "\n",
       "    .dataframe tbody tr th {\n",
       "        vertical-align: top;\n",
       "    }\n",
       "\n",
       "    .dataframe thead th {\n",
       "        text-align: right;\n",
       "    }\n",
       "</style>\n",
       "<table border=\"1\" class=\"dataframe\">\n",
       "  <thead>\n",
       "    <tr style=\"text-align: right;\">\n",
       "      <th></th>\n",
       "      <th>customerID</th>\n",
       "      <th>Genero</th>\n",
       "      <th>Idoso</th>\n",
       "      <th>Casado</th>\n",
       "      <th>Dependents</th>\n",
       "      <th>Tempo_como_Cliente</th>\n",
       "      <th>PhoneService</th>\n",
       "      <th>Servico_Internet</th>\n",
       "      <th>Servico_Seguranca</th>\n",
       "      <th>Suporte_Tecnico</th>\n",
       "      <th>StreamingTV</th>\n",
       "      <th>Tipo_Contrato</th>\n",
       "      <th>PaymentMethod</th>\n",
       "      <th>Pagamento_Mensal</th>\n",
       "      <th>Total_Pago</th>\n",
       "      <th>Churn</th>\n",
       "    </tr>\n",
       "  </thead>\n",
       "  <tbody>\n",
       "    <tr>\n",
       "      <th>1360</th>\n",
       "      <td>3793-MMFUH</td>\n",
       "      <td>Female</td>\n",
       "      <td>1</td>\n",
       "      <td>No</td>\n",
       "      <td>No</td>\n",
       "      <td>13</td>\n",
       "      <td>NaN</td>\n",
       "      <td>Fiber optic</td>\n",
       "      <td>No</td>\n",
       "      <td>No</td>\n",
       "      <td>Yes</td>\n",
       "      <td>Month-to-month</td>\n",
       "      <td>Electronic check</td>\n",
       "      <td>95.05</td>\n",
       "      <td>1290.00</td>\n",
       "      <td>Yes</td>\n",
       "    </tr>\n",
       "    <tr>\n",
       "      <th>414</th>\n",
       "      <td>1996-DBMUS</td>\n",
       "      <td>Female</td>\n",
       "      <td>1</td>\n",
       "      <td>Yes</td>\n",
       "      <td>No</td>\n",
       "      <td>48</td>\n",
       "      <td>NaN</td>\n",
       "      <td>Fiber optic</td>\n",
       "      <td>No</td>\n",
       "      <td>No</td>\n",
       "      <td>No</td>\n",
       "      <td>Month-to-month</td>\n",
       "      <td>Bank transfer (automatic)</td>\n",
       "      <td>70.65</td>\n",
       "      <td>3545.05</td>\n",
       "      <td>No</td>\n",
       "    </tr>\n",
       "    <tr>\n",
       "      <th>2133</th>\n",
       "      <td>8051-HJRLT</td>\n",
       "      <td>Female</td>\n",
       "      <td>1</td>\n",
       "      <td>No</td>\n",
       "      <td>No</td>\n",
       "      <td>1</td>\n",
       "      <td>Yes</td>\n",
       "      <td>Fiber optic</td>\n",
       "      <td>No</td>\n",
       "      <td>No</td>\n",
       "      <td>No</td>\n",
       "      <td>Month-to-month</td>\n",
       "      <td>Electronic check</td>\n",
       "      <td>70.55</td>\n",
       "      <td>70.55</td>\n",
       "      <td>Yes</td>\n",
       "    </tr>\n",
       "    <tr>\n",
       "      <th>1061</th>\n",
       "      <td>4829-ZLJTK</td>\n",
       "      <td>Female</td>\n",
       "      <td>1</td>\n",
       "      <td>Yes</td>\n",
       "      <td>No</td>\n",
       "      <td>72</td>\n",
       "      <td>NaN</td>\n",
       "      <td>Fiber optic</td>\n",
       "      <td>Yes</td>\n",
       "      <td>No</td>\n",
       "      <td>Yes</td>\n",
       "      <td>Two year</td>\n",
       "      <td>Electronic check</td>\n",
       "      <td>112.40</td>\n",
       "      <td>8046.85</td>\n",
       "      <td>No</td>\n",
       "    </tr>\n",
       "    <tr>\n",
       "      <th>441</th>\n",
       "      <td>5628-RKIFK</td>\n",
       "      <td>Female</td>\n",
       "      <td>1</td>\n",
       "      <td>No</td>\n",
       "      <td>No</td>\n",
       "      <td>49</td>\n",
       "      <td>NaN</td>\n",
       "      <td>Fiber optic</td>\n",
       "      <td>Yes</td>\n",
       "      <td>No</td>\n",
       "      <td>Yes</td>\n",
       "      <td>Month-to-month</td>\n",
       "      <td>Credit card (automatic)</td>\n",
       "      <td>101.55</td>\n",
       "      <td>5070.40</td>\n",
       "      <td>No</td>\n",
       "    </tr>\n",
       "    <tr>\n",
       "      <th>1607</th>\n",
       "      <td>4154-AQUGT</td>\n",
       "      <td>Male</td>\n",
       "      <td>1</td>\n",
       "      <td>Yes</td>\n",
       "      <td>No</td>\n",
       "      <td>13</td>\n",
       "      <td>NaN</td>\n",
       "      <td>Fiber optic</td>\n",
       "      <td>No</td>\n",
       "      <td>Yes</td>\n",
       "      <td>No</td>\n",
       "      <td>Month-to-month</td>\n",
       "      <td>Bank transfer (automatic)</td>\n",
       "      <td>89.05</td>\n",
       "      <td>1169.35</td>\n",
       "      <td>Yes</td>\n",
       "    </tr>\n",
       "    <tr>\n",
       "      <th>1069</th>\n",
       "      <td>8883-GRDWQ</td>\n",
       "      <td>Male</td>\n",
       "      <td>1</td>\n",
       "      <td>No</td>\n",
       "      <td>No</td>\n",
       "      <td>20</td>\n",
       "      <td>NaN</td>\n",
       "      <td>DSL</td>\n",
       "      <td>Yes</td>\n",
       "      <td>Yes</td>\n",
       "      <td>No</td>\n",
       "      <td>One year</td>\n",
       "      <td>Mailed check</td>\n",
       "      <td>54.00</td>\n",
       "      <td>1055.90</td>\n",
       "      <td>No</td>\n",
       "    </tr>\n",
       "    <tr>\n",
       "      <th>2143</th>\n",
       "      <td>4079-VTGLK</td>\n",
       "      <td>Male</td>\n",
       "      <td>1</td>\n",
       "      <td>Yes</td>\n",
       "      <td>No</td>\n",
       "      <td>30</td>\n",
       "      <td>Yes</td>\n",
       "      <td>DSL</td>\n",
       "      <td>No</td>\n",
       "      <td>No</td>\n",
       "      <td>Yes</td>\n",
       "      <td>Two year</td>\n",
       "      <td>Electronic check</td>\n",
       "      <td>74.85</td>\n",
       "      <td>2181.75</td>\n",
       "      <td>No</td>\n",
       "    </tr>\n",
       "    <tr>\n",
       "      <th>1606</th>\n",
       "      <td>6374-NTQLP</td>\n",
       "      <td>Male</td>\n",
       "      <td>1</td>\n",
       "      <td>Yes</td>\n",
       "      <td>Yes</td>\n",
       "      <td>72</td>\n",
       "      <td>NaN</td>\n",
       "      <td>Fiber optic</td>\n",
       "      <td>Yes</td>\n",
       "      <td>Yes</td>\n",
       "      <td>Yes</td>\n",
       "      <td>Two year</td>\n",
       "      <td>Credit card (automatic)</td>\n",
       "      <td>104.10</td>\n",
       "      <td>7447.70</td>\n",
       "      <td>No</td>\n",
       "    </tr>\n",
       "    <tr>\n",
       "      <th>426</th>\n",
       "      <td>2806-MLNTI</td>\n",
       "      <td>Male</td>\n",
       "      <td>1</td>\n",
       "      <td>Yes</td>\n",
       "      <td>No</td>\n",
       "      <td>52</td>\n",
       "      <td>NaN</td>\n",
       "      <td>Fiber optic</td>\n",
       "      <td>No</td>\n",
       "      <td>No</td>\n",
       "      <td>Yes</td>\n",
       "      <td>One year</td>\n",
       "      <td>Bank transfer (automatic)</td>\n",
       "      <td>105.10</td>\n",
       "      <td>5376.40</td>\n",
       "      <td>No</td>\n",
       "    </tr>\n",
       "  </tbody>\n",
       "</table>\n",
       "</div>"
      ],
      "text/plain": [
       "      customerID  Genero  Idoso Casado Dependents  Tempo_como_Cliente  \\\n",
       "1360  3793-MMFUH  Female      1     No         No                  13   \n",
       "414   1996-DBMUS  Female      1    Yes         No                  48   \n",
       "2133  8051-HJRLT  Female      1     No         No                   1   \n",
       "1061  4829-ZLJTK  Female      1    Yes         No                  72   \n",
       "441   5628-RKIFK  Female      1     No         No                  49   \n",
       "1607  4154-AQUGT    Male      1    Yes         No                  13   \n",
       "1069  8883-GRDWQ    Male      1     No         No                  20   \n",
       "2143  4079-VTGLK    Male      1    Yes         No                  30   \n",
       "1606  6374-NTQLP    Male      1    Yes        Yes                  72   \n",
       "426   2806-MLNTI    Male      1    Yes         No                  52   \n",
       "\n",
       "     PhoneService Servico_Internet Servico_Seguranca Suporte_Tecnico  \\\n",
       "1360          NaN      Fiber optic                No              No   \n",
       "414           NaN      Fiber optic                No              No   \n",
       "2133          Yes      Fiber optic                No              No   \n",
       "1061          NaN      Fiber optic               Yes              No   \n",
       "441           NaN      Fiber optic               Yes              No   \n",
       "1607          NaN      Fiber optic                No             Yes   \n",
       "1069          NaN              DSL               Yes             Yes   \n",
       "2143          Yes              DSL                No              No   \n",
       "1606          NaN      Fiber optic               Yes             Yes   \n",
       "426           NaN      Fiber optic                No              No   \n",
       "\n",
       "     StreamingTV   Tipo_Contrato              PaymentMethod  Pagamento_Mensal  \\\n",
       "1360         Yes  Month-to-month           Electronic check             95.05   \n",
       "414           No  Month-to-month  Bank transfer (automatic)             70.65   \n",
       "2133          No  Month-to-month           Electronic check             70.55   \n",
       "1061         Yes        Two year           Electronic check            112.40   \n",
       "441          Yes  Month-to-month    Credit card (automatic)            101.55   \n",
       "1607          No  Month-to-month  Bank transfer (automatic)             89.05   \n",
       "1069          No        One year               Mailed check             54.00   \n",
       "2143         Yes        Two year           Electronic check             74.85   \n",
       "1606         Yes        Two year    Credit card (automatic)            104.10   \n",
       "426          Yes        One year  Bank transfer (automatic)            105.10   \n",
       "\n",
       "      Total_Pago Churn  \n",
       "1360     1290.00   Yes  \n",
       "414      3545.05    No  \n",
       "2133       70.55   Yes  \n",
       "1061     8046.85    No  \n",
       "441      5070.40    No  \n",
       "1607     1169.35   Yes  \n",
       "1069     1055.90    No  \n",
       "2143     2181.75    No  \n",
       "1606     7447.70    No  \n",
       "426      5376.40    No  "
      ]
     },
     "execution_count": 382,
     "metadata": {},
     "output_type": "execute_result"
    }
   ],
   "source": [
    "df.sort_values(by='Idoso', ascending=False).head(10)"
   ]
  },
  {
   "cell_type": "markdown",
   "metadata": {
    "id": "-Cmll45c8TGu"
   },
   "source": [
    "Legenda dos dados:\n",
    "\n",
    "*   **CustomerID** : Esse é o ID único de cada cliente nosso da rede de produtos de telecomunicação.\n",
    "\n",
    "*   **Genero** : O genero dos nossos clientes.\n",
    "\n",
    "*   **Idoso** : Se nosso cliente tem acima de 60 anos ou não. (Sim = 1 | Não = 0)\n",
    "\n",
    "*   **Casado** : Se nosso cliente é casado ou não.\n",
    "\n",
    "*   **Dependents** : Se cliente tem dependentes.\n",
    "\n",
    "*   **Tempo_como_Cliente** : Tempo em meses que nosso cliente está com a nossa empresa.\n",
    "\n",
    "*   **PhoneService** : Se ele contratou serviço telefônico com a nossa empresa.\n",
    "\n",
    "*   **Servico_Internet** : Qual o tipo de serviço de internet contratado.\n",
    "\n",
    "*   **Servico_Seguranca** : Se ele contratou serviço de segurança com a nossa empresa.\n",
    "\n",
    "*   **Suporte_Tecnico** : Se já acionou o suporte técnico.\n",
    "\n",
    "*   **StreamingTV** : Se ele contratou serviço de streaming para TV.\n",
    "\n",
    "*   **Tipo_Contrato** : Qual o tipo de contrato dos nossos clientes, se era mensal, anual etc.\n",
    "\n",
    "*   **Tipo_Contrato** : Qual o tipo de contrato dos nossos clientes, se era mensal, anual etc.\n",
    "\n",
    "*   **PaymentMethod** : Forma de Pagamento.\n",
    "\n",
    "*   **Pagamento_Mensal** : Quanto o cliente pagava mensalmente.\n",
    "\n",
    "*   **Total_Pago** : Total já pago pelo cliente para nossa companhia.\n",
    "\n",
    "*   **Churn** : Nossa coluna mais importante, se nosso cliente nos abandonou ou não.\n",
    "\n",
    "\n"
   ]
  },
  {
   "cell_type": "markdown",
   "metadata": {
    "id": "2aZL5edn-Sxy"
   },
   "source": [
    "#### Verificação dos tipos de cada dado na tabela abaixo \n",
    "* É possível verificar que a variável Churn está como object, quando deveria ser numérica."
   ]
  },
  {
   "cell_type": "code",
   "execution_count": 383,
   "metadata": {
    "id": "uVbeG6vJ-ao3"
   },
   "outputs": [
    {
     "name": "stdout",
     "output_type": "stream",
     "text": [
      "<class 'pandas.core.frame.DataFrame'>\n",
      "RangeIndex: 2500 entries, 0 to 2499\n",
      "Data columns (total 16 columns):\n",
      " #   Column              Non-Null Count  Dtype  \n",
      "---  ------              --------------  -----  \n",
      " 0   customerID          2500 non-null   object \n",
      " 1   Genero              2488 non-null   object \n",
      " 2   Idoso               2500 non-null   int64  \n",
      " 3   Casado              2500 non-null   object \n",
      " 4   Dependents          2500 non-null   object \n",
      " 5   Tempo_como_Cliente  2500 non-null   int64  \n",
      " 6   PhoneService        1018 non-null   object \n",
      " 7   Servico_Internet    2500 non-null   object \n",
      " 8   Servico_Seguranca   2500 non-null   object \n",
      " 9   Suporte_Tecnico     2500 non-null   object \n",
      " 10  StreamingTV         2500 non-null   object \n",
      " 11  Tipo_Contrato       2500 non-null   object \n",
      " 12  PaymentMethod       2500 non-null   object \n",
      " 13  Pagamento_Mensal    2175 non-null   float64\n",
      " 14  Total_Pago          2500 non-null   float64\n",
      " 15  Churn               2495 non-null   object \n",
      "dtypes: float64(2), int64(2), object(12)\n",
      "memory usage: 312.6+ KB\n"
     ]
    }
   ],
   "source": [
    "df.info()"
   ]
  },
  {
   "cell_type": "markdown",
   "metadata": {},
   "source": [
    "#### Antes de realizar qualquer modificação, é importante verificar os valores nulos e NA.\n",
    "\n",
    "* A tabela abaixo mostra o percentual de valores nulos para cada informação. Sua análise indica que, possivelmente, poderemos excluir os valores nulos de Genero e Churn.\n",
    "* Já os valores nulos de PhoneService e Pagamento_Mensal terão que ser tratados por outro método."
   ]
  },
  {
   "cell_type": "code",
   "execution_count": 384,
   "metadata": {},
   "outputs": [
    {
     "data": {
      "text/plain": [
       "customerID             0.00\n",
       "Genero                 0.48\n",
       "Idoso                  0.00\n",
       "Casado                 0.00\n",
       "Dependents             0.00\n",
       "Tempo_como_Cliente     0.00\n",
       "PhoneService          59.28\n",
       "Servico_Internet       0.00\n",
       "Servico_Seguranca      0.00\n",
       "Suporte_Tecnico        0.00\n",
       "StreamingTV            0.00\n",
       "Tipo_Contrato          0.00\n",
       "PaymentMethod          0.00\n",
       "Pagamento_Mensal      13.00\n",
       "Total_Pago             0.00\n",
       "Churn                  0.20\n",
       "dtype: float64"
      ]
     },
     "execution_count": 384,
     "metadata": {},
     "output_type": "execute_result"
    }
   ],
   "source": [
    "df.isnull().sum()*(100/len(df))"
   ]
  },
  {
   "cell_type": "markdown",
   "metadata": {},
   "source": [
    "### Correção dos Nulos para Genero\n",
    "\n",
    "#### Como o valor percentual de nulos no gênero é baixo, podemos excluir eles com tranquilidade."
   ]
  },
  {
   "cell_type": "code",
   "execution_count": 385,
   "metadata": {},
   "outputs": [
    {
     "data": {
      "text/plain": [
       "customerID             0.000000\n",
       "Genero                 0.000000\n",
       "Idoso                  0.000000\n",
       "Casado                 0.000000\n",
       "Dependents             0.000000\n",
       "Tempo_como_Cliente     0.000000\n",
       "PhoneService          59.565916\n",
       "Servico_Internet       0.000000\n",
       "Servico_Seguranca      0.000000\n",
       "Suporte_Tecnico        0.000000\n",
       "StreamingTV            0.000000\n",
       "Tipo_Contrato          0.000000\n",
       "PaymentMethod          0.000000\n",
       "Pagamento_Mensal      12.580386\n",
       "Total_Pago             0.000000\n",
       "Churn                  0.000000\n",
       "dtype: float64"
      ]
     },
     "execution_count": 385,
     "metadata": {},
     "output_type": "execute_result"
    }
   ],
   "source": [
    "df.dropna(subset=['Genero'], inplace=True)\n",
    "df.isnull().sum()*(100/len(df))"
   ]
  },
  {
   "cell_type": "markdown",
   "metadata": {},
   "source": [
    "#### Ao deletar os nulos de gênero, foram deletados também os valores de Churn. Como o percentual de nulos era pequeno, o prejuízo da exclusão dos dados não deve prejudicar o modelo."
   ]
  },
  {
   "cell_type": "markdown",
   "metadata": {},
   "source": [
    "### Correção dos Nulos para Pagamento Mensal\n",
    "\n",
    "#### Apesar do percentual do pagamento mensal nulo ser pequeno, por ser uma variável numérica é bem possível que seja possível substituir ele por sua média ou mediana e, assim, não prejudicar o banco."
   ]
  },
  {
   "cell_type": "code",
   "execution_count": 386,
   "metadata": {},
   "outputs": [
    {
     "name": "stdout",
     "output_type": "stream",
     "text": [
      "65.60756321839081 71.45 -5.842436781609194\n"
     ]
    }
   ],
   "source": [
    "print(df['Pagamento_Mensal'].mean(), df['Pagamento_Mensal'].median(), df['Pagamento_Mensal'].mean() - df['Pagamento_Mensal'].median())"
   ]
  },
  {
   "cell_type": "code",
   "execution_count": 387,
   "metadata": {},
   "outputs": [
    {
     "data": {
      "text/plain": [
       "<Axes: ylabel='Pagamento_Mensal'>"
      ]
     },
     "execution_count": 387,
     "metadata": {},
     "output_type": "execute_result"
    },
    {
     "data": {
      "image/png": "[encoded data removed]",
      "text/plain": [
       "<Figure size 800x600 with 1 Axes>"
      ]
     },
     "metadata": {},
     "output_type": "display_data"
    }
   ],
   "source": [
    "plt.figure(figsize=(8, 6))\n",
    "sns.boxplot(data=df, y='Pagamento_Mensal', color='skyblue')"
   ]
  },
  {
   "cell_type": "markdown",
   "metadata": {},
   "source": [
    "#### A partir dos dados e do gráfico é possível afirmar que a troca dos valores pela média não irá prejudicar os dados."
   ]
  },
  {
   "cell_type": "code",
   "execution_count": 388,
   "metadata": {},
   "outputs": [
    {
     "name": "stderr",
     "output_type": "stream",
     "text": [
      "/tmp/ipykernel_14549/941504035.py:2: FutureWarning: A value is trying to be set on a copy of a DataFrame or Series through chained assignment using an inplace method.\n",
      "The behavior will change in pandas 3.0. This inplace method will never work because the intermediate object on which we are setting values always behaves as a copy.\n",
      "\n",
      "For example, when doing 'df[col].method(value, inplace=True)', try using 'df.method({col: value}, inplace=True)' or df[col] = df[col].method(value) instead, to perform the operation inplace on the original object.\n",
      "\n",
      "\n",
      "  df['Pagamento_Mensal'].fillna(pag_men_media, inplace=True)\n"
     ]
    }
   ],
   "source": [
    "pag_men_media = df['Pagamento_Mensal'].mean()\n",
    "df['Pagamento_Mensal'].fillna(pag_men_media, inplace=True)"
   ]
  },
  {
   "cell_type": "code",
   "execution_count": 389,
   "metadata": {},
   "outputs": [
    {
     "data": {
      "text/plain": [
       "customerID             0.000000\n",
       "Genero                 0.000000\n",
       "Idoso                  0.000000\n",
       "Casado                 0.000000\n",
       "Dependents             0.000000\n",
       "Tempo_como_Cliente     0.000000\n",
       "PhoneService          59.565916\n",
       "Servico_Internet       0.000000\n",
       "Servico_Seguranca      0.000000\n",
       "Suporte_Tecnico        0.000000\n",
       "StreamingTV            0.000000\n",
       "Tipo_Contrato          0.000000\n",
       "PaymentMethod          0.000000\n",
       "Pagamento_Mensal       0.000000\n",
       "Total_Pago             0.000000\n",
       "Churn                  0.000000\n",
       "dtype: float64"
      ]
     },
     "execution_count": 389,
     "metadata": {},
     "output_type": "execute_result"
    }
   ],
   "source": [
    "df.isnull().sum()*(100/len(df))"
   ]
  },
  {
   "cell_type": "markdown",
   "metadata": {},
   "source": [
    "### Correção dos Nulos Serviço de telefone\n",
    "\n",
    "#### O número de valores nulos é alto, de maneira que não é uma boa escolha apenas deletar eles. A segunda opção é substituir por algum valor, ou pela média/mediana. Os valores variam apenas entre 'Yes' e 'No', com grande maior sendo 'Yes'. Os histogramas de comparação entre os valores nulos e totais para as categorias de serviços de internet e tipo de contrato indicam que não há uma tendência nos valores nulos do serviço de telefone.\n",
    "\n",
    "Obs.: Escolhi as categorias serviços de internet e tipo de contrato por suspeitar que os comportamentos dos serviços de telefone poderiam indicar alguma tendência."
   ]
  },
  {
   "cell_type": "code",
   "execution_count": 390,
   "metadata": {},
   "outputs": [
    {
     "data": {
      "text/plain": [
       "array(['No', 'Yes', nan], dtype=object)"
      ]
     },
     "execution_count": 390,
     "metadata": {},
     "output_type": "execute_result"
    }
   ],
   "source": [
    "df['PhoneService'].unique()"
   ]
  },
  {
   "cell_type": "code",
   "execution_count": 391,
   "metadata": {},
   "outputs": [
    {
     "data": {
      "text/plain": [
       "<Axes: >"
      ]
     },
     "execution_count": 391,
     "metadata": {},
     "output_type": "execute_result"
    },
    {
     "data": {
      "image/png": "[encoded data removed]",
      "text/plain": [
       "<Figure size 640x480 with 1 Axes>"
      ]
     },
     "metadata": {},
     "output_type": "display_data"
    }
   ],
   "source": [
    "df['PhoneService'].hist()"
   ]
  },
  {
   "cell_type": "code",
   "execution_count": 392,
   "metadata": {},
   "outputs": [],
   "source": [
    "df_ps = df[df['PhoneService'].isnull()]"
   ]
  },
  {
   "cell_type": "code",
   "execution_count": 393,
   "metadata": {},
   "outputs": [
    {
     "data": {
      "image/png": "[encoded data removed]",
      "text/plain": [
       "<Figure size 1000x600 with 1 Axes>"
      ]
     },
     "metadata": {},
     "output_type": "display_data"
    }
   ],
   "source": [
    "df['Servico_Internet'].hist(bins=10, color='blue', alpha=0.5, label='Total', density=True)\n",
    "df_ps['Servico_Internet'].hist(bins=10, figsize=(10, 6), color='green', alpha=0.5, label='Nulos', density=True)\n",
    "\n",
    "plt.title('Histograma do Serviço de Internet para Serviços de telefone Nulos e Todos', pad=20)\n",
    "plt.xlabel('Serviço de Internet', fontsize=12)\n",
    "plt.ylabel('Frequência', fontsize=12, rotation=90, labelpad=20)\n",
    "plt.xticks(rotation=0)\n",
    "plt.legend()\n",
    "plt.show()"
   ]
  },
  {
   "cell_type": "code",
   "execution_count": 394,
   "metadata": {},
   "outputs": [
    {
     "data": {
      "image/png": "[encoded data removed]",
      "text/plain": [
       "<Figure size 1000x600 with 1 Axes>"
      ]
     },
     "metadata": {},
     "output_type": "display_data"
    }
   ],
   "source": [
    "df['Tipo_Contrato'].hist(bins=10, color='blue', alpha=0.5, label='Total', density=True)\n",
    "df_ps['Tipo_Contrato'].hist(bins=15, figsize=(10, 6), color='green', alpha=0.5, label='Nulos', density=True)\n",
    "\n",
    "plt.title('Histograma do Tipo de Contrato para Serviços de telefone Nulos e Todos', pad=20)\n",
    "plt.xlabel('Tipo de contrato', fontsize=12)\n",
    "plt.ylabel('Frequência', fontsize=12, rotation=90, labelpad=20)\n",
    "plt.xticks(rotation=0)\n",
    "plt.legend()\n",
    "plt.show()"
   ]
  },
  {
   "cell_type": "markdown",
   "metadata": {},
   "source": [
    "### A partir dessa análise, optei por substituir os nulos por 'Yes'."
   ]
  },
  {
   "cell_type": "code",
   "execution_count": 395,
   "metadata": {},
   "outputs": [
    {
     "name": "stderr",
     "output_type": "stream",
     "text": [
      "/tmp/ipykernel_14549/1744902271.py:1: FutureWarning: A value is trying to be set on a copy of a DataFrame or Series through chained assignment using an inplace method.\n",
      "The behavior will change in pandas 3.0. This inplace method will never work because the intermediate object on which we are setting values always behaves as a copy.\n",
      "\n",
      "For example, when doing 'df[col].method(value, inplace=True)', try using 'df.method({col: value}, inplace=True)' or df[col] = df[col].method(value) instead, to perform the operation inplace on the original object.\n",
      "\n",
      "\n",
      "  df['PhoneService'].fillna('Yes', inplace=True)\n"
     ]
    },
    {
     "data": {
      "text/plain": [
       "customerID            0.0\n",
       "Genero                0.0\n",
       "Idoso                 0.0\n",
       "Casado                0.0\n",
       "Dependents            0.0\n",
       "Tempo_como_Cliente    0.0\n",
       "PhoneService          0.0\n",
       "Servico_Internet      0.0\n",
       "Servico_Seguranca     0.0\n",
       "Suporte_Tecnico       0.0\n",
       "StreamingTV           0.0\n",
       "Tipo_Contrato         0.0\n",
       "PaymentMethod         0.0\n",
       "Pagamento_Mensal      0.0\n",
       "Total_Pago            0.0\n",
       "Churn                 0.0\n",
       "dtype: float64"
      ]
     },
     "execution_count": 395,
     "metadata": {},
     "output_type": "execute_result"
    }
   ],
   "source": [
    "df['PhoneService'].fillna('Yes', inplace=True)\n",
    "df.isnull().sum()*(100/len(df))"
   ]
  },
  {
   "cell_type": "markdown",
   "metadata": {},
   "source": [
    "### Correção do tipo do Churn"
   ]
  },
  {
   "cell_type": "code",
   "execution_count": 396,
   "metadata": {},
   "outputs": [
    {
     "data": {
      "text/plain": [
       "array(['No', 'Yes'], dtype=object)"
      ]
     },
     "execution_count": 396,
     "metadata": {},
     "output_type": "execute_result"
    }
   ],
   "source": [
    "df['Churn'].unique()"
   ]
  },
  {
   "cell_type": "code",
   "execution_count": 397,
   "metadata": {},
   "outputs": [],
   "source": [
    "df['Churn'] = df['Churn'].map({'Yes': 1, 'No': 0})\n"
   ]
  },
  {
   "cell_type": "code",
   "execution_count": 399,
   "metadata": {},
   "outputs": [
    {
     "name": "stdout",
     "output_type": "stream",
     "text": [
      "<class 'pandas.core.frame.DataFrame'>\n",
      "Index: 2488 entries, 0 to 2499\n",
      "Data columns (total 16 columns):\n",
      " #   Column              Non-Null Count  Dtype  \n",
      "---  ------              --------------  -----  \n",
      " 0   customerID          2488 non-null   object \n",
      " 1   Genero              2488 non-null   object \n",
      " 2   Idoso               2488 non-null   int64  \n",
      " 3   Casado              2488 non-null   object \n",
      " 4   Dependents          2488 non-null   object \n",
      " 5   Tempo_como_Cliente  2488 non-null   int64  \n",
      " 6   PhoneService        2488 non-null   object \n",
      " 7   Servico_Internet    2488 non-null   object \n",
      " 8   Servico_Seguranca   2488 non-null   object \n",
      " 9   Suporte_Tecnico     2488 non-null   object \n",
      " 10  StreamingTV         2488 non-null   object \n",
      " 11  Tipo_Contrato       2488 non-null   object \n",
      " 12  PaymentMethod       2488 non-null   object \n",
      " 13  Pagamento_Mensal    2488 non-null   float64\n",
      " 14  Total_Pago          2488 non-null   float64\n",
      " 15  Churn               2488 non-null   int64  \n",
      "dtypes: float64(2), int64(3), object(11)\n",
      "memory usage: 330.4+ KB\n"
     ]
    }
   ],
   "source": [
    "df.info()"
   ]
  },
  {
   "cell_type": "markdown",
   "metadata": {
    "id": "KyM7bzIWAevH"
   },
   "source": [
    "## Correção de valores digitados incorretamente, com letras maiúsculas ou minusculas, ou com variações\n",
    "\n",
    "O único erro identificado é na coluna Genero, todos os outros podem ser corrigidos padronizando ele em letras maiúsculas."
   ]
  },
  {
   "cell_type": "code",
   "execution_count": 400,
   "metadata": {
    "id": "pBLJpzXXGTcq"
   },
   "outputs": [
    {
     "name": "stdout",
     "output_type": "stream",
     "text": [
      "customerID ['7590-VHVEG' '5575-GNVDE' '3668-QPYBK' ... '5702-SKUOB' '1134-YWTYF'\n",
      " '6061-GWWAV']\n",
      "Genero ['Female' 'Male' 'F' 'M' 'f']\n",
      "Idoso [0 1]\n",
      "Casado ['Yes' 'No']\n",
      "Dependents ['No' 'Yes']\n",
      "Tempo_como_Cliente [ 1 34  2 45 52 71 10 21 12 58 49 30 47 72 17 27  5 46 11 70 63 13 69 43\n",
      " 15 25  8 60 18 66  9  3 31 50 64 62 56  7 42 35 48 29 65 38 68 32 55 37\n",
      " 36 41  6  4 33 67 23 57 61 14 22 16 20 53 40 59 24 44 19 54 51 28 26  0\n",
      " 39]\n",
      "PhoneService ['No' 'Yes']\n",
      "Servico_Internet ['DSL' 'No' 'Fiber optic' 'dsl']\n",
      "Servico_Seguranca ['No' 'Yes' 'No internet service']\n",
      "Suporte_Tecnico ['No' 'Yes' 'No internet service']\n",
      "StreamingTV ['No' 'No internet service' 'Yes']\n",
      "Tipo_Contrato ['Month-to-month' 'One year' 'Two year']\n",
      "PaymentMethod ['Electronic check' 'Mailed check' 'Bank transfer (automatic)'\n",
      " 'Credit card (automatic)']\n",
      "Pagamento_Mensal [ 29.85  56.95  53.85 ...  98.4  100.7   60.45]\n",
      "Total_Pago [  29.85 1889.5   108.15 ...   93.45 1389.85 2894.55]\n",
      "Churn [0 1]\n"
     ]
    }
   ],
   "source": [
    "for col in df.columns:\n",
    "    print(col, df[col].unique())"
   ]
  },
  {
   "cell_type": "markdown",
   "metadata": {},
   "source": [
    "#### Correção do gênero"
   ]
  },
  {
   "cell_type": "code",
   "execution_count": 401,
   "metadata": {},
   "outputs": [
    {
     "name": "stdout",
     "output_type": "stream",
     "text": [
      "Genero:  ['Female' 'Male']\n"
     ]
    }
   ],
   "source": [
    "df['Genero'] = df['Genero'].replace('F', 'Female')\n",
    "df['Genero'] = df['Genero'].replace('f', 'Female')\n",
    "df['Genero'] = df['Genero'].replace('M', 'Male')\n",
    "print('Genero: ', df['Genero'].unique())"
   ]
  },
  {
   "cell_type": "markdown",
   "metadata": {},
   "source": [
    "#### Transformar todos eles em letra maiúscula"
   ]
  },
  {
   "cell_type": "code",
   "execution_count": 402,
   "metadata": {},
   "outputs": [],
   "source": [
    "for col in df.select_dtypes(include='object').columns:\n",
    "    df[col] = df[col].str.upper()"
   ]
  },
  {
   "cell_type": "markdown",
   "metadata": {
    "id": "C-2vJktpA0r7"
   },
   "source": [
    "### Padronizar os dados para português"
   ]
  },
  {
   "cell_type": "code",
   "execution_count": 403,
   "metadata": {},
   "outputs": [],
   "source": [
    "df.rename(columns={'Dependents': 'DEPENDENTES'}, inplace=True)\n",
    "df.rename(columns={'PhoneService': 'SERVICO_TELEFONE'}, inplace=True)\n",
    "df.rename(columns={'PaymentMethod': 'METODO_PAGAMENTO'}, inplace=True)"
   ]
  },
  {
   "cell_type": "code",
   "execution_count": 404,
   "metadata": {},
   "outputs": [],
   "source": [
    "for col in df.columns:\n",
    "   df.rename(columns={col: col.upper()}, inplace=True)"
   ]
  },
  {
   "cell_type": "code",
   "execution_count": 405,
   "metadata": {},
   "outputs": [
    {
     "data": {
      "text/html": [
       "<div>\n",
       "<style scoped>\n",
       "    .dataframe tbody tr th:only-of-type {\n",
       "        vertical-align: middle;\n",
       "    }\n",
       "\n",
       "    .dataframe tbody tr th {\n",
       "        vertical-align: top;\n",
       "    }\n",
       "\n",
       "    .dataframe thead th {\n",
       "        text-align: right;\n",
       "    }\n",
       "</style>\n",
       "<table border=\"1\" class=\"dataframe\">\n",
       "  <thead>\n",
       "    <tr style=\"text-align: right;\">\n",
       "      <th></th>\n",
       "      <th>CUSTOMERID</th>\n",
       "      <th>GENERO</th>\n",
       "      <th>IDOSO</th>\n",
       "      <th>CASADO</th>\n",
       "      <th>DEPENDENTES</th>\n",
       "      <th>TEMPO_COMO_CLIENTE</th>\n",
       "      <th>SERVICO_TELEFONE</th>\n",
       "      <th>SERVICO_INTERNET</th>\n",
       "      <th>SERVICO_SEGURANCA</th>\n",
       "      <th>SUPORTE_TECNICO</th>\n",
       "      <th>STREAMINGTV</th>\n",
       "      <th>TIPO_CONTRATO</th>\n",
       "      <th>METODO_PAGAMENTO</th>\n",
       "      <th>PAGAMENTO_MENSAL</th>\n",
       "      <th>TOTAL_PAGO</th>\n",
       "      <th>CHURN</th>\n",
       "    </tr>\n",
       "  </thead>\n",
       "  <tbody>\n",
       "    <tr>\n",
       "      <th>0</th>\n",
       "      <td>7590-VHVEG</td>\n",
       "      <td>FEMALE</td>\n",
       "      <td>0</td>\n",
       "      <td>YES</td>\n",
       "      <td>NO</td>\n",
       "      <td>1</td>\n",
       "      <td>NO</td>\n",
       "      <td>DSL</td>\n",
       "      <td>NO</td>\n",
       "      <td>NO</td>\n",
       "      <td>NO</td>\n",
       "      <td>MONTH-TO-MONTH</td>\n",
       "      <td>ELECTRONIC CHECK</td>\n",
       "      <td>29.850000</td>\n",
       "      <td>29.85</td>\n",
       "      <td>0</td>\n",
       "    </tr>\n",
       "    <tr>\n",
       "      <th>1</th>\n",
       "      <td>5575-GNVDE</td>\n",
       "      <td>MALE</td>\n",
       "      <td>0</td>\n",
       "      <td>NO</td>\n",
       "      <td>NO</td>\n",
       "      <td>34</td>\n",
       "      <td>YES</td>\n",
       "      <td>DSL</td>\n",
       "      <td>YES</td>\n",
       "      <td>NO</td>\n",
       "      <td>NO</td>\n",
       "      <td>ONE YEAR</td>\n",
       "      <td>MAILED CHECK</td>\n",
       "      <td>56.950000</td>\n",
       "      <td>1889.50</td>\n",
       "      <td>0</td>\n",
       "    </tr>\n",
       "    <tr>\n",
       "      <th>2</th>\n",
       "      <td>3668-QPYBK</td>\n",
       "      <td>MALE</td>\n",
       "      <td>0</td>\n",
       "      <td>NO</td>\n",
       "      <td>NO</td>\n",
       "      <td>2</td>\n",
       "      <td>YES</td>\n",
       "      <td>DSL</td>\n",
       "      <td>YES</td>\n",
       "      <td>NO</td>\n",
       "      <td>NO</td>\n",
       "      <td>MONTH-TO-MONTH</td>\n",
       "      <td>MAILED CHECK</td>\n",
       "      <td>53.850000</td>\n",
       "      <td>108.15</td>\n",
       "      <td>1</td>\n",
       "    </tr>\n",
       "    <tr>\n",
       "      <th>3</th>\n",
       "      <td>7795-CFOCW</td>\n",
       "      <td>MALE</td>\n",
       "      <td>0</td>\n",
       "      <td>NO</td>\n",
       "      <td>NO</td>\n",
       "      <td>45</td>\n",
       "      <td>NO</td>\n",
       "      <td>DSL</td>\n",
       "      <td>YES</td>\n",
       "      <td>YES</td>\n",
       "      <td>NO</td>\n",
       "      <td>ONE YEAR</td>\n",
       "      <td>BANK TRANSFER (AUTOMATIC)</td>\n",
       "      <td>65.607563</td>\n",
       "      <td>1840.75</td>\n",
       "      <td>0</td>\n",
       "    </tr>\n",
       "    <tr>\n",
       "      <th>16</th>\n",
       "      <td>8191-XWSZG</td>\n",
       "      <td>FEMALE</td>\n",
       "      <td>0</td>\n",
       "      <td>NO</td>\n",
       "      <td>NO</td>\n",
       "      <td>52</td>\n",
       "      <td>YES</td>\n",
       "      <td>NO</td>\n",
       "      <td>NO INTERNET SERVICE</td>\n",
       "      <td>NO INTERNET SERVICE</td>\n",
       "      <td>NO INTERNET SERVICE</td>\n",
       "      <td>ONE YEAR</td>\n",
       "      <td>MAILED CHECK</td>\n",
       "      <td>65.607563</td>\n",
       "      <td>1022.95</td>\n",
       "      <td>0</td>\n",
       "    </tr>\n",
       "  </tbody>\n",
       "</table>\n",
       "</div>"
      ],
      "text/plain": [
       "    CUSTOMERID  GENERO  IDOSO CASADO DEPENDENTES  TEMPO_COMO_CLIENTE  \\\n",
       "0   7590-VHVEG  FEMALE      0    YES          NO                   1   \n",
       "1   5575-GNVDE    MALE      0     NO          NO                  34   \n",
       "2   3668-QPYBK    MALE      0     NO          NO                   2   \n",
       "3   7795-CFOCW    MALE      0     NO          NO                  45   \n",
       "16  8191-XWSZG  FEMALE      0     NO          NO                  52   \n",
       "\n",
       "   SERVICO_TELEFONE SERVICO_INTERNET    SERVICO_SEGURANCA  \\\n",
       "0                NO              DSL                   NO   \n",
       "1               YES              DSL                  YES   \n",
       "2               YES              DSL                  YES   \n",
       "3                NO              DSL                  YES   \n",
       "16              YES               NO  NO INTERNET SERVICE   \n",
       "\n",
       "        SUPORTE_TECNICO          STREAMINGTV   TIPO_CONTRATO  \\\n",
       "0                    NO                   NO  MONTH-TO-MONTH   \n",
       "1                    NO                   NO        ONE YEAR   \n",
       "2                    NO                   NO  MONTH-TO-MONTH   \n",
       "3                   YES                   NO        ONE YEAR   \n",
       "16  NO INTERNET SERVICE  NO INTERNET SERVICE        ONE YEAR   \n",
       "\n",
       "             METODO_PAGAMENTO  PAGAMENTO_MENSAL  TOTAL_PAGO  CHURN  \n",
       "0            ELECTRONIC CHECK         29.850000       29.85      0  \n",
       "1                MAILED CHECK         56.950000     1889.50      0  \n",
       "2                MAILED CHECK         53.850000      108.15      1  \n",
       "3   BANK TRANSFER (AUTOMATIC)         65.607563     1840.75      0  \n",
       "16               MAILED CHECK         65.607563     1022.95      0  "
      ]
     },
     "execution_count": 405,
     "metadata": {},
     "output_type": "execute_result"
    }
   ],
   "source": [
    "df.head()"
   ]
  },
  {
   "cell_type": "code",
   "execution_count": 406,
   "metadata": {},
   "outputs": [
    {
     "name": "stdout",
     "output_type": "stream",
     "text": [
      "CUSTOMERID ['7590-VHVEG' '5575-GNVDE' '3668-QPYBK' ... '5702-SKUOB' '1134-YWTYF'\n",
      " '6061-GWWAV']\n",
      "GENERO ['FEMININO' 'MASCULINO']\n",
      "CASADO ['SIM' 'NAO']\n",
      "DEPENDENTES ['NAO' 'SIM']\n",
      "SERVICO_TELEFONE ['NAO' 'SIM']\n",
      "SERVICO_INTERNET ['DSL' 'NAO' 'FIBER OPTIC']\n",
      "SERVICO_SEGURANCA ['NAO' 'SIM' 'SEM SERVICO DE INTERNET']\n",
      "SUPORTE_TECNICO ['NAO' 'SIM' 'SEM SERVICO DE INTERNET']\n",
      "STREAMINGTV ['NAO' 'SEM SERVICO DE INTERNET' 'SIM']\n",
      "TIPO_CONTRATO ['MES-A-MES' 'UM ANO' 'DOIS ANOS']\n",
      "METODO_PAGAMENTO ['ENVIO POR E-MAIL' 'ENVIO POR CORREIO'\n",
      " 'TRANSFERENCIA BANCARIA - DEBITO AUTOMATICO'\n",
      " 'CARTAO DE CREDITO - DEBITO AUTOMATICO']\n"
     ]
    }
   ],
   "source": [
    "for col in df.select_dtypes(include='object').columns:\n",
    "    df[col] = df[col].replace('YES', 'SIM')\n",
    "    df[col] = df[col].replace('NO', 'NAO')\n",
    "    df[col] = df[col].replace('NO INTERNET SERVICE', 'SEM SERVICO DE INTERNET')\n",
    "    df[col] = df[col].replace('MONTH-TO-MONTH', 'MES-A-MES')\n",
    "    df[col] = df[col].replace('ONE YEAR', 'UM ANO')\n",
    "    df[col] = df[col].replace('TWO YEAR', 'DOIS ANOS')\n",
    "    df[col] = df[col].replace('ELECTRONIC CHECK' , 'ENVIO POR E-MAIL')\n",
    "    df[col] = df[col].replace('MAILED CHECK', 'ENVIO POR CORREIO')\n",
    "    df[col] = df[col].replace('BANK TRANSFER (AUTOMATIC)', 'TRANSFERENCIA BANCARIA - DEBITO AUTOMATICO')\n",
    "    df[col] = df[col].replace('CREDIT CARD (AUTOMATIC)', 'CARTAO DE CREDITO - DEBITO AUTOMATICO') \n",
    "    df[col] = df[col].replace('FEMALE', 'FEMININO')\n",
    "    df[col] = df[col].replace('MALE', 'MASCULINO')\n",
    "\n",
    "for col in df.select_dtypes(include='object').columns:\n",
    "    print(col, df[col].unique())"
   ]
  },
  {
   "cell_type": "code",
   "execution_count": 407,
   "metadata": {},
   "outputs": [
    {
     "data": {
      "text/html": [
       "<div>\n",
       "<style scoped>\n",
       "    .dataframe tbody tr th:only-of-type {\n",
       "        vertical-align: middle;\n",
       "    }\n",
       "\n",
       "    .dataframe tbody tr th {\n",
       "        vertical-align: top;\n",
       "    }\n",
       "\n",
       "    .dataframe thead th {\n",
       "        text-align: right;\n",
       "    }\n",
       "</style>\n",
       "<table border=\"1\" class=\"dataframe\">\n",
       "  <thead>\n",
       "    <tr style=\"text-align: right;\">\n",
       "      <th></th>\n",
       "      <th>CUSTOMERID</th>\n",
       "      <th>GENERO</th>\n",
       "      <th>IDOSO</th>\n",
       "      <th>CASADO</th>\n",
       "      <th>DEPENDENTES</th>\n",
       "      <th>TEMPO_COMO_CLIENTE</th>\n",
       "      <th>SERVICO_TELEFONE</th>\n",
       "      <th>SERVICO_INTERNET</th>\n",
       "      <th>SERVICO_SEGURANCA</th>\n",
       "      <th>SUPORTE_TECNICO</th>\n",
       "      <th>STREAMINGTV</th>\n",
       "      <th>TIPO_CONTRATO</th>\n",
       "      <th>METODO_PAGAMENTO</th>\n",
       "      <th>PAGAMENTO_MENSAL</th>\n",
       "      <th>TOTAL_PAGO</th>\n",
       "      <th>CHURN</th>\n",
       "    </tr>\n",
       "  </thead>\n",
       "  <tbody>\n",
       "    <tr>\n",
       "      <th>0</th>\n",
       "      <td>7590-VHVEG</td>\n",
       "      <td>FEMININO</td>\n",
       "      <td>0</td>\n",
       "      <td>SIM</td>\n",
       "      <td>NAO</td>\n",
       "      <td>1</td>\n",
       "      <td>NAO</td>\n",
       "      <td>DSL</td>\n",
       "      <td>NAO</td>\n",
       "      <td>NAO</td>\n",
       "      <td>NAO</td>\n",
       "      <td>MES-A-MES</td>\n",
       "      <td>ENVIO POR E-MAIL</td>\n",
       "      <td>29.850000</td>\n",
       "      <td>29.85</td>\n",
       "      <td>0</td>\n",
       "    </tr>\n",
       "    <tr>\n",
       "      <th>1</th>\n",
       "      <td>5575-GNVDE</td>\n",
       "      <td>MASCULINO</td>\n",
       "      <td>0</td>\n",
       "      <td>NAO</td>\n",
       "      <td>NAO</td>\n",
       "      <td>34</td>\n",
       "      <td>SIM</td>\n",
       "      <td>DSL</td>\n",
       "      <td>SIM</td>\n",
       "      <td>NAO</td>\n",
       "      <td>NAO</td>\n",
       "      <td>UM ANO</td>\n",
       "      <td>ENVIO POR CORREIO</td>\n",
       "      <td>56.950000</td>\n",
       "      <td>1889.50</td>\n",
       "      <td>0</td>\n",
       "    </tr>\n",
       "    <tr>\n",
       "      <th>2</th>\n",
       "      <td>3668-QPYBK</td>\n",
       "      <td>MASCULINO</td>\n",
       "      <td>0</td>\n",
       "      <td>NAO</td>\n",
       "      <td>NAO</td>\n",
       "      <td>2</td>\n",
       "      <td>SIM</td>\n",
       "      <td>DSL</td>\n",
       "      <td>SIM</td>\n",
       "      <td>NAO</td>\n",
       "      <td>NAO</td>\n",
       "      <td>MES-A-MES</td>\n",
       "      <td>ENVIO POR CORREIO</td>\n",
       "      <td>53.850000</td>\n",
       "      <td>108.15</td>\n",
       "      <td>1</td>\n",
       "    </tr>\n",
       "    <tr>\n",
       "      <th>3</th>\n",
       "      <td>7795-CFOCW</td>\n",
       "      <td>MASCULINO</td>\n",
       "      <td>0</td>\n",
       "      <td>NAO</td>\n",
       "      <td>NAO</td>\n",
       "      <td>45</td>\n",
       "      <td>NAO</td>\n",
       "      <td>DSL</td>\n",
       "      <td>SIM</td>\n",
       "      <td>SIM</td>\n",
       "      <td>NAO</td>\n",
       "      <td>UM ANO</td>\n",
       "      <td>TRANSFERENCIA BANCARIA - DEBITO AUTOMATICO</td>\n",
       "      <td>65.607563</td>\n",
       "      <td>1840.75</td>\n",
       "      <td>0</td>\n",
       "    </tr>\n",
       "    <tr>\n",
       "      <th>16</th>\n",
       "      <td>8191-XWSZG</td>\n",
       "      <td>FEMININO</td>\n",
       "      <td>0</td>\n",
       "      <td>NAO</td>\n",
       "      <td>NAO</td>\n",
       "      <td>52</td>\n",
       "      <td>SIM</td>\n",
       "      <td>NAO</td>\n",
       "      <td>SEM SERVICO DE INTERNET</td>\n",
       "      <td>SEM SERVICO DE INTERNET</td>\n",
       "      <td>SEM SERVICO DE INTERNET</td>\n",
       "      <td>UM ANO</td>\n",
       "      <td>ENVIO POR CORREIO</td>\n",
       "      <td>65.607563</td>\n",
       "      <td>1022.95</td>\n",
       "      <td>0</td>\n",
       "    </tr>\n",
       "  </tbody>\n",
       "</table>\n",
       "</div>"
      ],
      "text/plain": [
       "    CUSTOMERID     GENERO  IDOSO CASADO DEPENDENTES  TEMPO_COMO_CLIENTE  \\\n",
       "0   7590-VHVEG   FEMININO      0    SIM         NAO                   1   \n",
       "1   5575-GNVDE  MASCULINO      0    NAO         NAO                  34   \n",
       "2   3668-QPYBK  MASCULINO      0    NAO         NAO                   2   \n",
       "3   7795-CFOCW  MASCULINO      0    NAO         NAO                  45   \n",
       "16  8191-XWSZG   FEMININO      0    NAO         NAO                  52   \n",
       "\n",
       "   SERVICO_TELEFONE SERVICO_INTERNET        SERVICO_SEGURANCA  \\\n",
       "0               NAO              DSL                      NAO   \n",
       "1               SIM              DSL                      SIM   \n",
       "2               SIM              DSL                      SIM   \n",
       "3               NAO              DSL                      SIM   \n",
       "16              SIM              NAO  SEM SERVICO DE INTERNET   \n",
       "\n",
       "            SUPORTE_TECNICO              STREAMINGTV TIPO_CONTRATO  \\\n",
       "0                       NAO                      NAO     MES-A-MES   \n",
       "1                       NAO                      NAO        UM ANO   \n",
       "2                       NAO                      NAO     MES-A-MES   \n",
       "3                       SIM                      NAO        UM ANO   \n",
       "16  SEM SERVICO DE INTERNET  SEM SERVICO DE INTERNET        UM ANO   \n",
       "\n",
       "                              METODO_PAGAMENTO  PAGAMENTO_MENSAL  TOTAL_PAGO  \\\n",
       "0                             ENVIO POR E-MAIL         29.850000       29.85   \n",
       "1                            ENVIO POR CORREIO         56.950000     1889.50   \n",
       "2                            ENVIO POR CORREIO         53.850000      108.15   \n",
       "3   TRANSFERENCIA BANCARIA - DEBITO AUTOMATICO         65.607563     1840.75   \n",
       "16                           ENVIO POR CORREIO         65.607563     1022.95   \n",
       "\n",
       "    CHURN  \n",
       "0       0  \n",
       "1       0  \n",
       "2       1  \n",
       "3       0  \n",
       "16      0  "
      ]
     },
     "execution_count": 407,
     "metadata": {},
     "output_type": "execute_result"
    }
   ],
   "source": [
    "df.head()"
   ]
  },
  {
   "cell_type": "code",
   "execution_count": null,
   "metadata": {},
   "outputs": [],
   "source": []
  },
  {
   "cell_type": "code",
   "execution_count": null,
   "metadata": {},
   "outputs": [],
   "source": []
  },
  {
   "cell_type": "code",
   "execution_count": null,
   "metadata": {},
   "outputs": [],
   "source": []
  }
 ],
 "metadata": {
  "colab": {
   "provenance": []
  },
  "kernelspec": {
   "display_name": "Python 3 (ipykernel)",
   "language": "python",
   "name": "python3"
  },
  "language_info": {
   "codemirror_mode": {
    "name": "ipython",
    "version": 3
   },
   "file_extension": ".py",
   "mimetype": "text/x-python",
   "name": "python",
   "nbconvert_exporter": "python",
   "pygments_lexer": "ipython3",
   "version": "3.12.7"
  }
 },
 "nbformat": 4,
 "nbformat_minor": 4
}
