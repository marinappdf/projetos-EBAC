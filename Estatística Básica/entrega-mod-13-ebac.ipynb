{
 "cells": [
  {
   "cell_type": "markdown",
   "id": "ce99ba28-c0b8-4e68-a98e-be594a12d2ea",
   "metadata": {},
   "source": [
    "# Projeto do Módulo 13\n",
    "## Projeto - Fundamentos da Descoberta de Dados: aplicação dos conceitos estatísticos nos Módulos 12 e 13.\n",
    "\n",
    "#### Importando bibliotecas e dados"
   ]
  },
  {
   "cell_type": "code",
   "execution_count": 1,
   "id": "f871ed4d-861f-4f6d-9ff3-bb17b6416ecd",
   "metadata": {},
   "outputs": [],
   "source": [
    "import pandas as pd\n",
    "import matplotlib.pyplot as plt\n",
    "import plotly.express as px\n",
    "import numpy as np"
   ]
  },
  {
   "cell_type": "code",
   "execution_count": 3,
   "id": "22f94182-583f-4702-a6df-f5707c0e829c",
   "metadata": {},
   "outputs": [
    {
     "data": {
      "text/html": [
       "<div>\n",
       "<style scoped>\n",
       "    .dataframe tbody tr th:only-of-type {\n",
       "        vertical-align: middle;\n",
       "    }\n",
       "\n",
       "    .dataframe tbody tr th {\n",
       "        vertical-align: top;\n",
       "    }\n",
       "\n",
       "    .dataframe thead th {\n",
       "        text-align: right;\n",
       "    }\n",
       "</style>\n",
       "<table border=\"1\" class=\"dataframe\">\n",
       "  <thead>\n",
       "    <tr style=\"text-align: right;\">\n",
       "      <th></th>\n",
       "      <th>title</th>\n",
       "      <th>Marca</th>\n",
       "      <th>Preco_Normal</th>\n",
       "      <th>Preco_Desconto</th>\n",
       "      <th>Preco_Anterior</th>\n",
       "      <th>Desconto</th>\n",
       "      <th>Categoria</th>\n",
       "    </tr>\n",
       "  </thead>\n",
       "  <tbody>\n",
       "    <tr>\n",
       "      <th>0</th>\n",
       "      <td>Pack 12 un, Leche extra proteína 1 L</td>\n",
       "      <td>Loncoleche</td>\n",
       "      <td>19788</td>\n",
       "      <td>0</td>\n",
       "      <td>0</td>\n",
       "      <td>0</td>\n",
       "      <td>lacteos</td>\n",
       "    </tr>\n",
       "    <tr>\n",
       "      <th>1</th>\n",
       "      <td>Pack 12 un, Leche chocolate receta original 1 L</td>\n",
       "      <td>Soprole</td>\n",
       "      <td>18228</td>\n",
       "      <td>0</td>\n",
       "      <td>0</td>\n",
       "      <td>0</td>\n",
       "      <td>lacteos</td>\n",
       "    </tr>\n",
       "    <tr>\n",
       "      <th>2</th>\n",
       "      <td>Pack 12 un, Leche semidescremada chocolate 1 L</td>\n",
       "      <td>Soprole</td>\n",
       "      <td>18228</td>\n",
       "      <td>0</td>\n",
       "      <td>0</td>\n",
       "      <td>0</td>\n",
       "      <td>lacteos</td>\n",
       "    </tr>\n",
       "    <tr>\n",
       "      <th>3</th>\n",
       "      <td>Pack 12 un, Leche semidescremada frutilla 1 L</td>\n",
       "      <td>Soprole</td>\n",
       "      <td>18228</td>\n",
       "      <td>0</td>\n",
       "      <td>0</td>\n",
       "      <td>0</td>\n",
       "      <td>lacteos</td>\n",
       "    </tr>\n",
       "    <tr>\n",
       "      <th>4</th>\n",
       "      <td>Pack 12 un, Leche sin lactosa chocolate 1 L</td>\n",
       "      <td>Loncoleche</td>\n",
       "      <td>17988</td>\n",
       "      <td>0</td>\n",
       "      <td>0</td>\n",
       "      <td>0</td>\n",
       "      <td>lacteos</td>\n",
       "    </tr>\n",
       "    <tr>\n",
       "      <th>5</th>\n",
       "      <td>Pack 12 un, Leche sin lactosa frutilla 1 L</td>\n",
       "      <td>Loncoleche</td>\n",
       "      <td>17988</td>\n",
       "      <td>0</td>\n",
       "      <td>0</td>\n",
       "      <td>0</td>\n",
       "      <td>lacteos</td>\n",
       "    </tr>\n",
       "    <tr>\n",
       "      <th>6</th>\n",
       "      <td>Pack 12 un, Leche saborizada light chocolate 1 L</td>\n",
       "      <td>Loncoleche</td>\n",
       "      <td>17988</td>\n",
       "      <td>0</td>\n",
       "      <td>0</td>\n",
       "      <td>0</td>\n",
       "      <td>lacteos</td>\n",
       "    </tr>\n",
       "    <tr>\n",
       "      <th>7</th>\n",
       "      <td>Pack 12 un, Leche saborizada frutilla 1 L</td>\n",
       "      <td>Colun</td>\n",
       "      <td>17388</td>\n",
       "      <td>0</td>\n",
       "      <td>0</td>\n",
       "      <td>0</td>\n",
       "      <td>lacteos</td>\n",
       "    </tr>\n",
       "    <tr>\n",
       "      <th>8</th>\n",
       "      <td>Pack 12 un, Leche saborizada vainilla 1 L</td>\n",
       "      <td>Colun</td>\n",
       "      <td>17388</td>\n",
       "      <td>0</td>\n",
       "      <td>0</td>\n",
       "      <td>0</td>\n",
       "      <td>lacteos</td>\n",
       "    </tr>\n",
       "    <tr>\n",
       "      <th>9</th>\n",
       "      <td>Pack 12 un, Leche saborizada manjar 1 L</td>\n",
       "      <td>Colun</td>\n",
       "      <td>17388</td>\n",
       "      <td>0</td>\n",
       "      <td>0</td>\n",
       "      <td>0</td>\n",
       "      <td>lacteos</td>\n",
       "    </tr>\n",
       "  </tbody>\n",
       "</table>\n",
       "</div>"
      ],
      "text/plain": [
       "                                              title       Marca  Preco_Normal  \\\n",
       "0              Pack 12 un, Leche extra proteína 1 L  Loncoleche         19788   \n",
       "1   Pack 12 un, Leche chocolate receta original 1 L     Soprole         18228   \n",
       "2    Pack 12 un, Leche semidescremada chocolate 1 L     Soprole         18228   \n",
       "3     Pack 12 un, Leche semidescremada frutilla 1 L     Soprole         18228   \n",
       "4       Pack 12 un, Leche sin lactosa chocolate 1 L  Loncoleche         17988   \n",
       "5        Pack 12 un, Leche sin lactosa frutilla 1 L  Loncoleche         17988   \n",
       "6  Pack 12 un, Leche saborizada light chocolate 1 L  Loncoleche         17988   \n",
       "7         Pack 12 un, Leche saborizada frutilla 1 L       Colun         17388   \n",
       "8         Pack 12 un, Leche saborizada vainilla 1 L       Colun         17388   \n",
       "9           Pack 12 un, Leche saborizada manjar 1 L       Colun         17388   \n",
       "\n",
       "   Preco_Desconto  Preco_Anterior  Desconto Categoria  \n",
       "0               0               0         0   lacteos  \n",
       "1               0               0         0   lacteos  \n",
       "2               0               0         0   lacteos  \n",
       "3               0               0         0   lacteos  \n",
       "4               0               0         0   lacteos  \n",
       "5               0               0         0   lacteos  \n",
       "6               0               0         0   lacteos  \n",
       "7               0               0         0   lacteos  \n",
       "8               0               0         0   lacteos  \n",
       "9               0               0         0   lacteos  "
      ]
     },
     "execution_count": 3,
     "metadata": {},
     "output_type": "execute_result"
    }
   ],
   "source": [
    "df = pd.read_csv(\"dados-mod-13.csv\", delimiter=',')\n",
    "\n",
    "df.head(10)"
   ]
  },
  {
   "cell_type": "markdown",
   "id": "33fcffed-750d-411d-a09c-4590527d9adf",
   "metadata": {},
   "source": [
    "### Média dos preços por categoria de produto."
   ]
  },
  {
   "cell_type": "code",
   "execution_count": 19,
   "id": "73e67651-0afa-4558-8532-7bf8420fa3f6",
   "metadata": {},
   "outputs": [
    {
     "data": {
      "text/plain": [
       "Categoria\n",
       "instantaneos-y-sopas           765.491228\n",
       "verduras                      1343.296875\n",
       "frutas                        1724.473684\n",
       "belleza-y-cuidado-personal    1783.556485\n",
       "congelados                    2108.042553\n",
       "lacteos                       2385.219239\n",
       "comidas-preparadas            3095.043478\n",
       "Name: Preco_Normal, dtype: float64"
      ]
     },
     "execution_count": 19,
     "metadata": {},
     "output_type": "execute_result"
    }
   ],
   "source": [
    "df.groupby(\"Categoria\")['Preco_Normal'].mean().sort_values()"
   ]
  },
  {
   "cell_type": "markdown",
   "id": "ba52109a-54e6-4008-977b-a0f40a305381",
   "metadata": {},
   "source": [
    "### Mediana dos preços por categoria de produto."
   ]
  },
  {
   "cell_type": "code",
   "execution_count": 20,
   "id": "f447799e-a482-4f90-80b3-b4e049f695ed",
   "metadata": {},
   "outputs": [
    {
     "data": {
      "text/plain": [
       "Categoria\n",
       "instantaneos-y-sopas           439.0\n",
       "lacteos                        989.0\n",
       "verduras                      1180.0\n",
       "frutas                        1195.0\n",
       "congelados                    1519.0\n",
       "belleza-y-cuidado-personal    1569.0\n",
       "comidas-preparadas            3290.0\n",
       "Name: Preco_Normal, dtype: float64"
      ]
     },
     "execution_count": 20,
     "metadata": {},
     "output_type": "execute_result"
    }
   ],
   "source": [
    "df.groupby(\"Categoria\")['Preco_Normal'].median().sort_values()"
   ]
  },
  {
   "cell_type": "markdown",
   "id": "037aaf75-fcb8-443e-ac37-cd11a302a810",
   "metadata": {},
   "source": [
    "### Comparação entre os valores das médias e das medianas"
   ]
  },
  {
   "cell_type": "code",
   "execution_count": 41,
   "id": "fd24891e-26cd-478a-b3ab-9b585927c7fe",
   "metadata": {},
   "outputs": [
    {
     "data": {
      "text/html": [
       "<div>\n",
       "<style scoped>\n",
       "    .dataframe tbody tr th:only-of-type {\n",
       "        vertical-align: middle;\n",
       "    }\n",
       "\n",
       "    .dataframe tbody tr th {\n",
       "        vertical-align: top;\n",
       "    }\n",
       "\n",
       "    .dataframe thead th {\n",
       "        text-align: right;\n",
       "    }\n",
       "</style>\n",
       "<table border=\"1\" class=\"dataframe\">\n",
       "  <thead>\n",
       "    <tr style=\"text-align: right;\">\n",
       "      <th></th>\n",
       "      <th>Média</th>\n",
       "      <th>Mediana</th>\n",
       "      <th>Maior_Valor</th>\n",
       "    </tr>\n",
       "    <tr>\n",
       "      <th>Categoria</th>\n",
       "      <th></th>\n",
       "      <th></th>\n",
       "      <th></th>\n",
       "    </tr>\n",
       "  </thead>\n",
       "  <tbody>\n",
       "    <tr>\n",
       "      <th>belleza-y-cuidado-personal</th>\n",
       "      <td>1783.556485</td>\n",
       "      <td>1569.0</td>\n",
       "      <td>Média</td>\n",
       "    </tr>\n",
       "    <tr>\n",
       "      <th>comidas-preparadas</th>\n",
       "      <td>3095.043478</td>\n",
       "      <td>3290.0</td>\n",
       "      <td>Mediana</td>\n",
       "    </tr>\n",
       "    <tr>\n",
       "      <th>congelados</th>\n",
       "      <td>2108.042553</td>\n",
       "      <td>1519.0</td>\n",
       "      <td>Média</td>\n",
       "    </tr>\n",
       "    <tr>\n",
       "      <th>frutas</th>\n",
       "      <td>1724.473684</td>\n",
       "      <td>1195.0</td>\n",
       "      <td>Média</td>\n",
       "    </tr>\n",
       "    <tr>\n",
       "      <th>instantaneos-y-sopas</th>\n",
       "      <td>765.491228</td>\n",
       "      <td>439.0</td>\n",
       "      <td>Média</td>\n",
       "    </tr>\n",
       "    <tr>\n",
       "      <th>lacteos</th>\n",
       "      <td>2385.219239</td>\n",
       "      <td>989.0</td>\n",
       "      <td>Média</td>\n",
       "    </tr>\n",
       "    <tr>\n",
       "      <th>verduras</th>\n",
       "      <td>1343.296875</td>\n",
       "      <td>1180.0</td>\n",
       "      <td>Média</td>\n",
       "    </tr>\n",
       "  </tbody>\n",
       "</table>\n",
       "</div>"
      ],
      "text/plain": [
       "                                  Média  Mediana Maior_Valor\n",
       "Categoria                                                   \n",
       "belleza-y-cuidado-personal  1783.556485   1569.0       Média\n",
       "comidas-preparadas          3095.043478   3290.0     Mediana\n",
       "congelados                  2108.042553   1519.0       Média\n",
       "frutas                      1724.473684   1195.0       Média\n",
       "instantaneos-y-sopas         765.491228    439.0       Média\n",
       "lacteos                     2385.219239    989.0       Média\n",
       "verduras                    1343.296875   1180.0       Média"
      ]
     },
     "execution_count": 41,
     "metadata": {},
     "output_type": "execute_result"
    }
   ],
   "source": [
    "df.groupby(\"Categoria\")['Preco_Normal'].agg(\n",
    "    Média=('mean'),\n",
    "    Mediana=('median'),\n",
    "   Maior_Valor = lambda x: 'Média' if np.mean(x) > np.median(x) else 'Mediana')"
   ]
  },
  {
   "cell_type": "markdown",
   "id": "21ae9ceb-4a61-4b50-ac46-43811a17ec02",
   "metadata": {},
   "source": [
    "### Desvio padrão por categoria de produto"
   ]
  },
  {
   "cell_type": "code",
   "execution_count": 47,
   "id": "011cab22-b452-4e2c-a4e7-8371646db867",
   "metadata": {},
   "outputs": [
    {
     "data": {
      "text/plain": [
       "Categoria\n",
       "belleza-y-cuidado-personal    2210.041719\n",
       "comidas-preparadas            2019.911428\n",
       "congelados                    2111.539896\n",
       "frutas                        1639.151114\n",
       "instantaneos-y-sopas          1170.232869\n",
       "lacteos                       3925.816164\n",
       "verduras                      1012.699625\n",
       "Name: Preco_Normal, dtype: float64"
      ]
     },
     "execution_count": 47,
     "metadata": {},
     "output_type": "execute_result"
    }
   ],
   "source": [
    "df.groupby('Categoria')['Preco_Normal'].std()"
   ]
  },
  {
   "cell_type": "markdown",
   "id": "350e2343-491e-406b-8a2a-3c565a41d102",
   "metadata": {},
   "source": [
    "### Análise dos dados"
   ]
  },
  {
   "cell_type": "code",
   "execution_count": 63,
   "id": "8448b982-90e1-4480-ad38-dc907a4814a6",
   "metadata": {},
   "outputs": [
    {
     "data": {
      "text/html": [
       "<div>\n",
       "<style scoped>\n",
       "    .dataframe tbody tr th:only-of-type {\n",
       "        vertical-align: middle;\n",
       "    }\n",
       "\n",
       "    .dataframe tbody tr th {\n",
       "        vertical-align: top;\n",
       "    }\n",
       "\n",
       "    .dataframe thead th {\n",
       "        text-align: right;\n",
       "    }\n",
       "</style>\n",
       "<table border=\"1\" class=\"dataframe\">\n",
       "  <thead>\n",
       "    <tr style=\"text-align: right;\">\n",
       "      <th></th>\n",
       "      <th>Categoria</th>\n",
       "      <th>Média</th>\n",
       "      <th>Mediana</th>\n",
       "      <th>Maior_Valor</th>\n",
       "      <th>Diferença</th>\n",
       "      <th>Desvio_Padrão</th>\n",
       "    </tr>\n",
       "  </thead>\n",
       "  <tbody>\n",
       "    <tr>\n",
       "      <th>5</th>\n",
       "      <td>lacteos</td>\n",
       "      <td>2385.22</td>\n",
       "      <td>989.0</td>\n",
       "      <td>Média</td>\n",
       "      <td>1396.22</td>\n",
       "      <td>3921.42</td>\n",
       "    </tr>\n",
       "    <tr>\n",
       "      <th>0</th>\n",
       "      <td>belleza-y-cuidado-personal</td>\n",
       "      <td>1783.56</td>\n",
       "      <td>1569.0</td>\n",
       "      <td>Média</td>\n",
       "      <td>214.56</td>\n",
       "      <td>2205.41</td>\n",
       "    </tr>\n",
       "    <tr>\n",
       "      <th>2</th>\n",
       "      <td>congelados</td>\n",
       "      <td>2108.04</td>\n",
       "      <td>1519.0</td>\n",
       "      <td>Média</td>\n",
       "      <td>589.04</td>\n",
       "      <td>2107.04</td>\n",
       "    </tr>\n",
       "    <tr>\n",
       "      <th>1</th>\n",
       "      <td>comidas-preparadas</td>\n",
       "      <td>3095.04</td>\n",
       "      <td>3290.0</td>\n",
       "      <td>Mediana</td>\n",
       "      <td>-194.96</td>\n",
       "      <td>1997.84</td>\n",
       "    </tr>\n",
       "    <tr>\n",
       "      <th>3</th>\n",
       "      <td>frutas</td>\n",
       "      <td>1724.47</td>\n",
       "      <td>1195.0</td>\n",
       "      <td>Média</td>\n",
       "      <td>529.47</td>\n",
       "      <td>1595.43</td>\n",
       "    </tr>\n",
       "    <tr>\n",
       "      <th>4</th>\n",
       "      <td>instantaneos-y-sopas</td>\n",
       "      <td>765.49</td>\n",
       "      <td>439.0</td>\n",
       "      <td>Média</td>\n",
       "      <td>326.49</td>\n",
       "      <td>1159.92</td>\n",
       "    </tr>\n",
       "    <tr>\n",
       "      <th>6</th>\n",
       "      <td>verduras</td>\n",
       "      <td>1343.30</td>\n",
       "      <td>1180.0</td>\n",
       "      <td>Média</td>\n",
       "      <td>163.30</td>\n",
       "      <td>1004.76</td>\n",
       "    </tr>\n",
       "  </tbody>\n",
       "</table>\n",
       "</div>"
      ],
      "text/plain": [
       "                    Categoria    Média  Mediana Maior_Valor  Diferença  \\\n",
       "5                     lacteos  2385.22    989.0       Média    1396.22   \n",
       "0  belleza-y-cuidado-personal  1783.56   1569.0       Média     214.56   \n",
       "2                  congelados  2108.04   1519.0       Média     589.04   \n",
       "1          comidas-preparadas  3095.04   3290.0     Mediana    -194.96   \n",
       "3                      frutas  1724.47   1195.0       Média     529.47   \n",
       "4        instantaneos-y-sopas   765.49    439.0       Média     326.49   \n",
       "6                    verduras  1343.30   1180.0       Média     163.30   \n",
       "\n",
       "   Desvio_Padrão  \n",
       "5        3921.42  \n",
       "0        2205.41  \n",
       "2        2107.04  \n",
       "1        1997.84  \n",
       "3        1595.43  \n",
       "4        1159.92  \n",
       "6        1004.76  "
      ]
     },
     "execution_count": 63,
     "metadata": {},
     "output_type": "execute_result"
    }
   ],
   "source": [
    "df.groupby(\"Categoria\")['Preco_Normal'].agg(\n",
    "    Média=('mean'),\n",
    "    Mediana=('median'),\n",
    "   Maior_Valor = lambda x: 'Média' if np.mean(x) > np.median(x) else 'Mediana', \n",
    "    Diferença = lambda x: np.mean(x) - np.median(x),\n",
    "  Desvio_Padrão = lambda x: np.std(x)).reset_index().sort_values(by='Desvio_Padrão', ascending=False).round(2)"
   ]
  },
  {
   "cell_type": "markdown",
   "id": "5a78a790-7db5-460e-98a9-90c3ee504f11",
   "metadata": {},
   "source": [
    "#### O exercício pede para analisar o comportamento da média e da mediana nas categorias com maior desvio padrão. Eu esperaria ver uma maior diferença entre a média e a mediana quanto maior o desvio padrão. Contudo, os dados não mostram isso de forma explícita. Ignorando os resultados das categorias de beleza e cuidado e alimentos instantâneos, poderíamos ver esse comportamento. \n",
    "\n",
    "Obs.: Os valores de desvio padrão estão diferentes no primeiro e no secundo cálculo por que o primeiro foi realizado com a biblioteca pandas e o segundo com a biblioteca numpy; de qualquer forma, a análise não "
   ]
  },
  {
   "cell_type": "code",
   "execution_count": null,
   "id": "ee0313d6-913d-4f2b-a199-122b380e20eb",
   "metadata": {},
   "outputs": [],
   "source": []
  }
 ],
 "metadata": {
  "kernelspec": {
   "display_name": "Python 3 (ipykernel)",
   "language": "python",
   "name": "python3"
  },
  "language_info": {
   "codemirror_mode": {
    "name": "ipython",
    "version": 3
   },
   "file_extension": ".py",
   "mimetype": "text/x-python",
   "name": "python",
   "nbconvert_exporter": "python",
   "pygments_lexer": "ipython3",
   "version": "3.12.7"
  }
 },
 "nbformat": 4,
 "nbformat_minor": 5
}
